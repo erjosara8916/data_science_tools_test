{
  "nbformat": 4,
  "nbformat_minor": 0,
  "metadata": {
    "colab": {
      "provenance": []
    },
    "kernelspec": {
      "name": "python3",
      "display_name": "Python 3"
    },
    "language_info": {
      "name": "python"
    }
  },
  "cells": [
    {
      "cell_type": "markdown",
      "source": [
        "# Data Science Tools and Ecosystem"
      ],
      "metadata": {
        "id": "F09wlSNG-GFl"
      }
    },
    {
      "cell_type": "markdown",
      "source": [
        "In this notebook, Data Science Tools and Ecosystem are summarized.\n"
      ],
      "metadata": {
        "id": "Clyl1gYL-5QI"
      }
    },
    {
      "cell_type": "markdown",
      "source": [
        "**Objectives:**\n",
        "- List popular languages for Data Science\n",
        "- List popular libraries for Data Science\n",
        "- List open source tools for Data Science"
      ],
      "metadata": {
        "id": "sYeht-d_EBoh"
      }
    },
    {
      "cell_type": "markdown",
      "source": [
        "Some of the popular languages that Data Scientists use are:\n",
        "1. Python\n",
        "2. R\n",
        "3. Scala\n",
        "4. Java\n"
      ],
      "metadata": {
        "id": "zQP8a_oo_EtY"
      }
    },
    {
      "cell_type": "markdown",
      "source": [
        "Some of the commonly used libraries used by Data Scientists include:\n",
        "1. Pandas\n",
        "2. Mathplotlib\n",
        "3. NumPy"
      ],
      "metadata": {
        "id": "NpE_B5FdB_fD"
      }
    },
    {
      "cell_type": "markdown",
      "source": [
        "| Data Science Tools\n",
        "| ---\n",
        "| JupiterLab\n",
        "| JupiterNotbook\n",
        "| GoogleColab\n",
        "| JupiterLite\n",
        "| RStudio"
      ],
      "metadata": {
        "id": "mDN9AmRG_WE7"
      }
    },
    {
      "cell_type": "markdown",
      "source": [
        "### Below are a few examples of evaluating arithmetic expressions in Python\n"
      ],
      "metadata": {
        "id": "TQgCOZia_8uB"
      }
    },
    {
      "cell_type": "code",
      "source": [
        "# This is a simple arithmetic expression to multiply then add integers\n",
        "(3*4)+5"
      ],
      "metadata": {
        "colab": {
          "base_uri": "https://localhost:8080/"
        },
        "id": "dTsSRVmNACi7",
        "outputId": "2f7027a8-66c5-492d-dabd-1ce4d49bf4b8"
      },
      "execution_count": 2,
      "outputs": [
        {
          "output_type": "execute_result",
          "data": {
            "text/plain": [
              "17"
            ]
          },
          "metadata": {},
          "execution_count": 2
        }
      ]
    },
    {
      "cell_type": "code",
      "source": [
        "# This will convert 200 minutes to hours by diving by 60\n",
        "200//60"
      ],
      "metadata": {
        "id": "LO7PJmuMAG6h",
        "outputId": "3c63251a-888c-4570-f3d8-39de2894f4de",
        "colab": {
          "base_uri": "https://localhost:8080/"
        }
      },
      "execution_count": 4,
      "outputs": [
        {
          "output_type": "execute_result",
          "data": {
            "text/plain": [
              "3"
            ]
          },
          "metadata": {},
          "execution_count": 4
        }
      ]
    },
    {
      "cell_type": "markdown",
      "source": [
        "# Autor\n",
        "Erick Saravia"
      ],
      "metadata": {
        "id": "2vxnpdatEhhU"
      }
    }
  ]
}